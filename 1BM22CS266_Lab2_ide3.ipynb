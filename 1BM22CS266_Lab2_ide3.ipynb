{
  "nbformat": 4,
  "nbformat_minor": 0,
  "metadata": {
    "colab": {
      "provenance": [],
      "authorship_tag": "ABX9TyNt0bT6r4K2q6x5PfnFwOPu",
      "include_colab_link": true
    },
    "kernelspec": {
      "name": "python3",
      "display_name": "Python 3"
    },
    "language_info": {
      "name": "python"
    }
  },
  "cells": [
    {
      "cell_type": "markdown",
      "metadata": {
        "id": "view-in-github",
        "colab_type": "text"
      },
      "source": [
        "<a href=\"https://colab.research.google.com/github/shreyamitawa/ML/blob/main/1BM22CS266_Lab2_ide3.ipynb\" target=\"_parent\"><img src=\"https://colab.research.google.com/assets/colab-badge.svg\" alt=\"Open In Colab\"/></a>"
      ]
    },
    {
      "cell_type": "code",
      "execution_count": 1,
      "metadata": {
        "id": "gLM0FitO1J-q"
      },
      "outputs": [],
      "source": [
        "import numpy as np\n",
        "import pandas as pd\n",
        "from collections import Counter\n",
        ""
      ]
    },
    {
      "cell_type": "code",
      "source": [
        "\n",
        "class Node:\n",
        "    def __init__(self, feature=None, value=None, label=None):\n",
        "        self.feature = feature  # Attribute to split on\n",
        "        self.value = value      # Value of the attribute\n",
        "        self.label = label      # Label if it’s a leaf node\n",
        "        self.children = {}      # Dictionary of child nodes"
      ],
      "metadata": {
        "id": "Qw-5crGe1RqU"
      },
      "execution_count": null,
      "outputs": []
    },
    {
      "cell_type": "code",
      "source": [
        "\n",
        "def entropy(y):\n",
        "    counts = np.bincount(y)\n",
        "    probabilities = counts / len(y)\n",
        "    return -np.sum([p * np.log2(p) for p in probabilities if p > 0])"
      ],
      "metadata": {
        "id": "yiGlVu4x1Rss"
      },
      "execution_count": null,
      "outputs": []
    },
    {
      "cell_type": "code",
      "source": [
        "\n",
        "def information_gain(X, y, feature):\n",
        "    total_entropy = entropy(y)\n",
        "    values, counts = np.unique(X[:, feature], return_counts=True)\n",
        "    weighted_entropy = sum((counts[i] / sum(counts)) * entropy(y[X[:, feature] == v]) for i, v in enumerate(values))\n",
        "    return total_entropy - weighted_entropy"
      ],
      "metadata": {
        "id": "PnPqsp6w1RvU"
      },
      "execution_count": null,
      "outputs": []
    },
    {
      "cell_type": "code",
      "source": [
        "\n",
        "def best_feature_to_split(X, y):\n",
        "    gains = [information_gain(X, y, i) for i in range(X.shape[1])]\n",
        "    return np.argmax(gains)"
      ],
      "metadata": {
        "id": "xPtd3SAU1Rx8"
      },
      "execution_count": null,
      "outputs": []
    },
    {
      "cell_type": "code",
      "source": [
        "\n",
        "def id3(X, y, features):\n",
        "    if len(set(y)) == 1:\n",
        "        return Node(label=y[0])\n",
        "    if len(features) == 0:\n",
        "        return Node(label=Counter(y).most_common(1)[0][0])\n",
        "    best_feature = best_feature_to_split(X, y)\n",
        "    node = Node(feature=features[best_feature])\n",
        "    feature_values = np.unique(X[:, best_feature])\n",
        "    for value in feature_values:\n",
        "        sub_X = X[X[:, best_feature] == value]\n",
        "        sub_y = y[X[:, best_feature] == value]\n",
        "        if len(sub_y) == 0:\n",
        "            node.children[value] = Node(label=Counter(y).most_common(1)[0][0])\n",
        "        else:\n",
        "            node.children[value] = id3(np.delete(sub_X, best_feature, axis=1), sub_y, features[:best_feature] + features[best_feature+1:])\n",
        "    return node"
      ],
      "metadata": {
        "id": "onztE4qV1R00"
      },
      "execution_count": null,
      "outputs": []
    },
    {
      "cell_type": "code",
      "source": [
        "def print_tree(node, depth=0):\n",
        "    if node.label is not None:\n",
        "        print(f\"{'  ' * depth}Leaf: {node.label}\")\n",
        "        return\n",
        "    print(f\"{'  ' * depth}Feature: {node.feature}\")\n",
        "    for value, child in node.children.items():\n",
        "        print(f\"{'  ' * depth}Value: {value}\")\n",
        "        print_tree(child, depth + 1)\n",
        ""
      ],
      "metadata": {
        "id": "5m7TWdjk1R3M"
      },
      "execution_count": null,
      "outputs": []
    },
    {
      "cell_type": "code",
      "source": [
        "\n",
        "# Example dataset\n",
        "data = pd.DataFrame({\n",
        "    'Outlook': ['Sunny', 'Sunny', 'Overcast', 'Rain', 'Rain', 'Rain', 'Overcast', 'Sunny', 'Sunny', 'Rain', 'Sunny', 'Overcast', 'Overcast', 'Rain'],\n",
        "    'Temperature': ['Hot', 'Hot', 'Hot', 'Mild', 'Cool', 'Cool', 'Cool', 'Mild', 'Cool', 'Mild', 'Mild', 'Mild', 'Hot', 'Mild'],\n",
        "    'Humidity': ['High', 'High', 'High', 'High', 'Normal', 'Normal', 'Normal', 'High', 'Normal', 'Normal', 'Normal', 'High', 'Normal', 'High'],\n",
        "    'Wind': ['Weak', 'Strong', 'Weak', 'Weak', 'Weak', 'Strong', 'Strong', 'Weak', 'Weak', 'Weak', 'Strong', 'Strong', 'Weak', 'Strong'],\n",
        "    'PlayTennis': ['No', 'No', 'Yes', 'Yes', 'Yes', 'No', 'Yes', 'No', 'Yes', 'Yes', 'Yes', 'Yes', 'Yes', 'No']\n",
        "})\n"
      ],
      "metadata": {
        "id": "2UE3yQg71R5s"
      },
      "execution_count": null,
      "outputs": []
    },
    {
      "cell_type": "code",
      "source": [
        "\n",
        "X = data.iloc[:, :-1].apply(lambda col: pd.factorize(col)[0]).to_numpy()\n",
        "y = pd.factorize(data['PlayTennis'])[0]\n",
        "features = list(data.columns[:-1])\n",
        ""
      ],
      "metadata": {
        "id": "LkNlaty71R-0"
      },
      "execution_count": null,
      "outputs": []
    },
    {
      "cell_type": "code",
      "source": [
        "\n",
        "decision_tree = id3(X, y, features)\n",
        "print_tree(decision_tree)\n",
        ""
      ],
      "metadata": {
        "colab": {
          "base_uri": "https://localhost:8080/"
        },
        "id": "1lfB3xcF1SBU",
        "outputId": "fcf533b7-4113-4815-bb3d-ce0a99f98098"
      },
      "execution_count": 3,
      "outputs": [
        {
          "output_type": "stream",
          "name": "stdout",
          "text": [
            "Feature: Outlook\n",
            "Value: 0\n",
            "  Feature: Humidity\n",
            "  Value: 0\n",
            "    Leaf: 0\n",
            "  Value: 1\n",
            "    Leaf: 1\n",
            "Value: 1\n",
            "  Leaf: 1\n",
            "Value: 2\n",
            "  Feature: Wind\n",
            "  Value: 0\n",
            "    Leaf: 1\n",
            "  Value: 1\n",
            "    Leaf: 0\n"
          ]
        }
      ]
    }
  ]
}